{
 "cells": [
  {
   "attachments": {},
   "cell_type": "markdown",
   "metadata": {},
   "source": [
    "# Desafio"
   ]
  },
  {
   "attachments": {},
   "cell_type": "markdown",
   "metadata": {},
   "source": [
    "**Sistema de Detecção de Fraude e Validação para Transações de Cartão de Crédito**\n",
    "\n",
    "Como um(a) engenheiro(a) de dados do banco, sua tarefa é criar um sistema de processamento de stream que irá receber transações de cartão de crédito em tempo real e executar várias etapas de processamento em cada transação. O sistema deve ser capaz de validar tecnicamente as transações, detectar possíveis fraudes, enriquecer os dados da transação com detalhes do cliente e, finalmente, contar e exibir o número de transações aprovadas e recusadas por marca de cartão.\n",
    "\n",
    "Especificações:\n",
    "\n",
    "1. **Apache Kafka**: Use o Apache Kafka como a espinha dorsal do sistema de processamento de stream. Você precisará configurar e criar vários tópicos Kafka para lidar com diferentes aspectos das transações.\n",
    "\n",
    "2. **Especificações de tópicos**\n",
    "   1. número de partições: 1\n",
    "   2. fator de replicação: 3  \n",
    "\n",
    "\n",
    "3. **Tópicos sugeridos**\n",
    "   - transactions, fraud_detection, technical_validation, authorizations\n",
    "\n",
    "  \n",
    "4. **Arquitetura sugerida**\n",
    "   \n",
    "   ![kafka_final_project](https://s3-sa-east-1.amazonaws.com/lcpi/f3b804de-2b27-47bb-bea4-83e0e11520a6.png)\n",
    "\n",
    "\n",
    "5. **Produtor Kafka**: Adapte o produtor `09_producer_transaction.py` para atender os requisitos da arquitetura.\n",
    "   - Exemplo de mensagem enviada:\n",
    "      ```bash\n",
    "      {'customer_id': 4, 'timestamp': '2023-05-09 09:48:29.663856', 'transaction_id': '4da40994-5a84-41a9-8bf5-a4917d631562', 'amount': 243.58, 'currency': 'USD', 'card_brand': 'MC'}\n",
    "      ```\n",
    "\n",
    "6. **Consumidores Kafka**: Crie consumidores Kafka que serão responsáveis por processar as transações do Kafka. Cada consumidor terá uma função específica:\n",
    "\n",
    "\n",
    "    - `consumer_validation`: responsável pela validação técnica das transações. Cerca de 10% das transações apresentam problemas de validação como senha incorreta ou falta de limite.\n",
    "      - Exemplo de resposta enviada:\n",
    "      ```bash\n",
    "         {'transaction_id': '4da40994-5a84-41a9-8bf5-a4917d631562', 'valid': True}\n",
    "      ```\n",
    "    - `consumer_fraud`: responsável pela detecção de fraudes. Cerca de 1% das transações são fraudolentas.\n",
    "        - Exemplo de resposta enviada:\n",
    "         ```bash\n",
    "            {'transaction_id': '4da40994-5a84-41a9-8bf5-a4917d631562', 'fraud': False}\n",
    "         ```\n",
    "    - `consumer_enrichment`: responsável pelo enriquecimento dos dados da transação com os detalhes do cliente.\n",
    "      - Exemplo de resposta enviada:\n",
    "      ```bash\n",
    "         {'customer_id': 4, 'timestamp': '2023-05-09 09:48:29.663856', 'transaction_id': '4da40994-5a84-41a9-8bf5-a4917d631562', 'amount': 243.58, 'currency': 'USD', 'card_brand': 'MC', 'valid': True, 'fraud': False}\n",
    "      ``` \n",
    "    - `consumer_summary`: responsável por contar e exibir o número de transações aprovadas e recusadas por marca de cartão.\n",
    "      - Exemplo de resultado:\n",
    "      ```bash\n",
    "         Approved transactions: {'MC': 200, 'Visa': 224, 'Elo': 230, 'Amex': 211}\n",
    "         Declined transactions: {'Amex': 30, 'Elo': 20, 'MC': 23, 'Visa': 17}\n",
    "\n",
    "\n",
    "         Approved transactions: {'MC': 200, 'Visa': 224, 'Elo': 230, 'Amex': 212}\n",
    "         Declined transactions: {'Amex': 30, 'Elo': 20, 'MC': 23, 'Visa': 17}\n",
    "      ``` \n",
    "\n",
    "**OBS**: Para simular uma flag de validade para transações, que aprove 85% delas, use:\n",
    "```python\n",
    "'fraud': random.random() < 0.85\n",
    "```\n",
    "\n",
    "7. **Teste**: Certifique-se de testar cuidadosamente seu sistema para garantir que ele esteja funcionando conforme o esperado.\n",
    "\n",
    "8.  **Monitoramento e Manutenção**: Finalmente, planeje como você irá monitorar o desempenho do seu sistema e mantê-lo ao longo do tempo para garantir que ele continue funcionando efetivamente.\n",
    "\n",
    "Lembre-se, o objetivo final é ter um sistema que possa processar transações de cartão de crédito em tempo real, validá-las, detectar possíveis fraudes, enriquecer os dados da transação e fornecer um resumo das transações aprovadas e recusadas."
   ]
  },
  {
   "attachments": {},
   "cell_type": "markdown",
   "metadata": {},
   "source": []
  },
  {
   "cell_type": "code",
   "execution_count": 1,
   "metadata": {},
   "outputs": [],
   "source": [
    "import random"
   ]
  },
  {
   "cell_type": "code",
   "execution_count": 2,
   "metadata": {},
   "outputs": [
    {
     "data": {
      "text/plain": [
       "0.7840568021681358"
      ]
     },
     "execution_count": 2,
     "metadata": {},
     "output_type": "execute_result"
    }
   ],
   "source": [
    "num = random.random()\n",
    "# {random.random() < 0.9}\n",
    "num"
   ]
  },
  {
   "cell_type": "code",
   "execution_count": 4,
   "metadata": {},
   "outputs": [
    {
     "data": {
      "text/plain": [
       "True"
      ]
     },
     "execution_count": 4,
     "metadata": {},
     "output_type": "execute_result"
    }
   ],
   "source": [
    "num < 0.9"
   ]
  }
 ],
 "metadata": {
  "kernelspec": {
   "display_name": "Python 3",
   "language": "python",
   "name": "python3"
  },
  "language_info": {
   "codemirror_mode": {
    "name": "ipython",
    "version": 3
   },
   "file_extension": ".py",
   "mimetype": "text/x-python",
   "name": "python",
   "nbconvert_exporter": "python",
   "pygments_lexer": "ipython3",
   "version": "3.10.10"
  },
  "orig_nbformat": 4
 },
 "nbformat": 4,
 "nbformat_minor": 2
}
